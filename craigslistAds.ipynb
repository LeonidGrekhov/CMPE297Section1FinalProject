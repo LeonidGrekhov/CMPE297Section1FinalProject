{
  "nbformat": 4,
  "nbformat_minor": 0,
  "metadata": {
    "colab": {
      "provenance": [],
      "toc_visible": true,
      "collapsed_sections": [],
      "include_colab_link": true
    },
    "kernelspec": {
      "name": "python3",
      "display_name": "Python 3"
    },
    "language_info": {
      "name": "python"
    }
  },
  "cells": [
    {
      "cell_type": "markdown",
      "metadata": {
        "id": "view-in-github",
        "colab_type": "text"
      },
      "source": [
        "<a href=\"https://colab.research.google.com/github/LeonidGrekhov/CMPE297Section1FinalProject/blob/main/craigslistAds.ipynb\" target=\"_parent\"><img src=\"https://colab.research.google.com/assets/colab-badge.svg\" alt=\"Open In Colab\"/></a>"
      ]
    },
    {
      "cell_type": "code",
      "source": [
        "from bs4 import BeautifulSoup #web scraping\n",
        "import requests #http requests\n",
        "import matplotlib.pyplot as plt #plotting\n",
        "import pandas as pd\n",
        "import numpy as np\n",
        "\n",
        "\n",
        "def craigs_list(locations, min_price, max_price, min_year, max_year):\n",
        "    \n",
        "    dfs = []\n",
        "    master = []\n",
        "\n",
        "    for location in locations:\n",
        "        \n",
        "        s = 0\n",
        "        ##https://raleigh.craigslist.org/search/cta?s=0&min_price=500&max_price=20000&min_auto_year=2000&max_auto_year=2010\n",
        "        ##https://sfbay.craigslist.org/search/cta?hasPic=1#search=1~gallery~0~0\n",
        "        url = \"https://\"+ str(location) + \".craigslist.org/search/cta?s=\" + str(s) + \"&min_price=\" + str(min_price) + \"&max_price=\" + str(max_price) + \"&min_auto_year=\" + str(min_year) +\"&max_auto_year=\" + str(max_year)\n",
        "        r  = requests.get(url)\n",
        "        html_page = r.text\n",
        "        soup = BeautifulSoup(html_page, \"lxml\")\n",
        "        total = str(soup.findAll(\"span\", {\"class\": \"totalcount\"})[0].contents)[2:-2]\n",
        "        count = int(total)/120\n",
        "        \n",
        "        while(count > 0):\n",
        "            print(count)\n",
        "            url = \"https://\"+ str(location) + \".craigslist.org/search/cta?s=\" + str(s) + \"&min_price=\" + str(min_price) + \"&max_price=\" + str(max_price) + \"&min_auto_year=\" + str(min_year) +\"&max_auto_year=\" + str(max_year)\n",
        "            print(url)\n",
        "            r  = requests.get(url)\n",
        "            html_page = r.text\n",
        "            soup = BeautifulSoup(html_page, \"lxml\")\n",
        "            \n",
        "            values = add_to_df(soup)\n",
        "            s = s + 120\n",
        "            count = count - 1\n",
        "\n",
        "\n",
        "            craig_df = pd.DataFrame(np.column_stack([values[0], values[1], values[2],values[3], values[4]]),\n",
        "                columns = [\"Price\", \"Location\",\"Title\",\"Link\", \"Date\"])\n",
        "            craig_df = craig_df.dropna()\n",
        "           \n",
        "            dfs.append(craig_df)\n",
        "        \n",
        "            craig_df = 0\n",
        "            \n",
        "        #concat all dfs here\n",
        "        d = pd.concat(dfs)\n",
        "        master.append(d)\n",
        "        d=[]\n",
        "        dfs = []\n",
        "\n",
        "    \n",
        "    return master\n",
        "    \n",
        "\t\n",
        "\t\n",
        "def graph_cars(df):\n",
        "    df2 = df.iloc[:, :2].copy()\n",
        "    df2['Price'] = df2['Price'].str[1:]\n",
        "    df2['Price'] = df2['Price'].str.replace(',', '').astype(int)\n",
        "    df2.plot(kind='hist', y = \"Price\")\n",
        "    plt.show()\n",
        "\t\n",
        "\t\n",
        "def add_to_df(soup):\n",
        "    link_list = []\n",
        "    listing_price = []\n",
        "    prices = []\n",
        "    hoods = []\n",
        "    titles = []\n",
        "    make_model = []\n",
        "    year = []\n",
        "    miles = []\n",
        "    odometer = []\n",
        "    date = []\n",
        "    \n",
        "   \n",
        " \n",
        "    for car in soup.find_all('li', class_= 'result-row'):\n",
        "            \n",
        "        try:\n",
        "            location = str(car.find(class_ = \"result-hood\").contents)\n",
        "            hoods.append(location[4:-3])\n",
        "        except:\n",
        "            hoods.append('N/A')\n",
        "                \n",
        "        try:\n",
        "            prices.append(car.find(class_ = \"result-price\").contents)\n",
        "        except:\n",
        "            #not possible\n",
        "            prices.append('N/A')\n",
        "                \n",
        "        try:\n",
        "            titles.append(car.find(class_ = \"result-title hdrlnk\").contents)\n",
        "        except:\n",
        "            titles.append('N/A')\n",
        "                \n",
        "        try:\n",
        "            date.append(car.find(class_ = \"result-date\").contents)\n",
        "        except:\n",
        "            date.append('N/A')\n",
        "                   \n",
        "        \n",
        "    for car in soup.findAll(\"a\", {\"class\": \"result-title hdrlnk\"}):\n",
        "        link_list.append(car['href'])\n",
        "        \n",
        "    return [prices, hoods, titles,link_list, date]\n",
        "\t\n",
        "\t\n",
        "\t\n",
        "locations = [\"raleigh\", \"boone\"]\n",
        "min_price = 500\n",
        "max_price= 20000\n",
        "min_year = 2000\n",
        "max_year = 2010\n",
        "df = craigs_list(locations, min_price, max_price, min_year, max_year)\n",
        "\t\n",
        "\t\n",
        "print(\"Raleigh\")\n",
        "graph_cars(df[0])\n",
        "print(\"Boone\")\n",
        "graph_cars(df[1])\n",
        "\n",
        "\n",
        "# Description Data Frame\n",
        "# Addition: Car model, Vin, Condition, drive, fuel, odometer, title status, transmission, type"
      ],
      "metadata": {
        "colab": {
          "base_uri": "https://localhost:8080/",
          "height": 845
        },
        "id": "CmV_ZFvka3_H",
        "outputId": "64dee86b-1ce7-4f4d-8b96-3381f8ed9082"
      },
      "execution_count": null,
      "outputs": [
        {
          "output_type": "stream",
          "name": "stdout",
          "text": [
            "6.441666666666666\n",
            "https://raleigh.craigslist.org/search/cta?s=0&min_price=500&max_price=20000&min_auto_year=2000&max_auto_year=2010\n",
            "5.441666666666666\n",
            "https://raleigh.craigslist.org/search/cta?s=120&min_price=500&max_price=20000&min_auto_year=2000&max_auto_year=2010\n",
            "4.441666666666666\n",
            "https://raleigh.craigslist.org/search/cta?s=240&min_price=500&max_price=20000&min_auto_year=2000&max_auto_year=2010\n",
            "3.4416666666666664\n",
            "https://raleigh.craigslist.org/search/cta?s=360&min_price=500&max_price=20000&min_auto_year=2000&max_auto_year=2010\n",
            "2.4416666666666664\n",
            "https://raleigh.craigslist.org/search/cta?s=480&min_price=500&max_price=20000&min_auto_year=2000&max_auto_year=2010\n",
            "1.4416666666666664\n",
            "https://raleigh.craigslist.org/search/cta?s=600&min_price=500&max_price=20000&min_auto_year=2000&max_auto_year=2010\n",
            "0.44166666666666643\n",
            "https://raleigh.craigslist.org/search/cta?s=720&min_price=500&max_price=20000&min_auto_year=2000&max_auto_year=2010\n",
            "0.20833333333333334\n",
            "https://boone.craigslist.org/search/cta?s=0&min_price=500&max_price=20000&min_auto_year=2000&max_auto_year=2010\n",
            "Raleigh\n"
          ]
        },
        {
          "output_type": "display_data",
          "data": {
            "text/plain": [
              "<Figure size 432x288 with 1 Axes>"
            ],
            "image/png": "[encoded data removed]"
          },
          "metadata": {
            "needs_background": "light"
          }
        },
        {
          "output_type": "stream",
          "name": "stdout",
          "text": [
            "Boone\n"
          ]
        },
        {
          "output_type": "display_data",
          "data": {
            "text/plain": [
              "<Figure size 432x288 with 1 Axes>"
            ],
            "image/png": "[encoded data removed]"
          },
          "metadata": {
            "needs_background": "light"
          }
        }
      ]
    },
    {
      "cell_type": "code",
      "source": [],
      "metadata": {
        "id": "xHcy2oXha4BI"
      },
      "execution_count": null,
      "outputs": []
    },
    {
      "cell_type": "code",
      "source": [],
      "metadata": {
        "id": "IF2cy-FEa4C2"
      },
      "execution_count": null,
      "outputs": []
    },
    {
      "cell_type": "code",
      "source": [],
      "metadata": {
        "id": "gCiASNo9a4Ex"
      },
      "execution_count": null,
      "outputs": []
    },
    {
      "cell_type": "code",
      "source": [],
      "metadata": {
        "id": "-YxIDPVca4Gn"
      },
      "execution_count": null,
      "outputs": []
    },
    {
      "cell_type": "code",
      "source": [],
      "metadata": {
        "id": "BvSEcdL3a4Ia"
      },
      "execution_count": null,
      "outputs": []
    }
  ]
}